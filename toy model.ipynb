{
 "cells": [
  {
   "cell_type": "markdown",
   "metadata": {},
   "source": [
    "# metabolic HMM\n",
    "we are attempting to describe metabolic brain states with hidden Markov models.  To prove that this is feasible we are creating a toy model with two brain regions that are coupled.  We then define two states that correspond to different coupling coefficient.  To test the model, we will create a dataset from the model and then we will feed it into the analysis to see whether we can recreate the parameters from the data."
   ]
  },
  {
   "cell_type": "code",
   "execution_count": 13,
   "metadata": {
    "collapsed": true
   },
   "outputs": [],
   "source": [
    "%matplotlib inline\n",
    "import numpy as np\n",
    "import pandas as pd\n",
    "import matplotlib.pyplot as plt\n",
    "import pymc3 as pm\n",
    "import langevin\n",
    "import theano.tensor as tt\n",
    "from scipy import optimize"
   ]
  },
  {
   "cell_type": "code",
   "execution_count": 2,
   "metadata": {
    "collapsed": false
   },
   "outputs": [
    {
     "name": "stdout",
     "output_type": "stream",
     "text": [
      "0.99 0.02 0.666666666667 0.333333333333\n"
     ]
    }
   ],
   "source": [
    "# transition matrix for states A and B\n",
    "P=np.array([[0.99,0.01],[0.02,0.98]])\n",
    "P1 = P[0,0]\n",
    "P2 = P[1,0]\n",
    "PA = P2/(P2+1-P1)\n",
    "PB = 1 - PA\n",
    "print(P1,P2,PA,PB)\n",
    "\n",
    "# create a sample\n",
    "firstpoint = np.random.choice(2, 1, p=[PA,PB])\n",
    "sample = [firstpoint[0]]\n",
    "for i in range(1,10000):\n",
    "    sample = np.concatenate((sample,np.random.choice(2,1,p=P[sample[-1]])))"
   ]
  },
  {
   "cell_type": "code",
   "execution_count": 3,
   "metadata": {
    "collapsed": false
   },
   "outputs": [
    {
     "data": {
      "text/plain": [
       "(-0.1, 1.1)"
      ]
     },
     "execution_count": 3,
     "metadata": {},
     "output_type": "execute_result"
    },
    {
     "data": {
      "image/png": "[encoded data removed]",
      "text/plain": [
       "<matplotlib.figure.Figure at 0x1069a4550>"
      ]
     },
     "metadata": {},
     "output_type": "display_data"
    }
   ],
   "source": [
    "# plot the state variable\n",
    "plt.plot(sample[:1000], drawstyle='steps-mid')\n",
    "plt.ylim((-0.1,1.1))"
   ]
  },
  {
   "cell_type": "code",
   "execution_count": 4,
   "metadata": {
    "collapsed": false
   },
   "outputs": [
    {
     "name": "stdout",
     "output_type": "stream",
     "text": [
      "False\n"
     ]
    }
   ],
   "source": [
    "print(not 1)"
   ]
  },
  {
   "cell_type": "code",
   "execution_count": 5,
   "metadata": {
    "collapsed": false
   },
   "outputs": [],
   "source": [
    "# to simulate the data we need to calculate the time intervals for each state\n",
    "first = sample[0]\n",
    "first_index = 0\n",
    "intervals=[]\n",
    "while first_index<len(sample):\n",
    "    if first==0:\n",
    "        first=1\n",
    "    else:\n",
    "        first=0\n",
    "    try:\n",
    "        change = next(i+first_index for i,state in enumerate(sample[first_index:]) if state==first)\n",
    "    except:\n",
    "        change = len(sample)\n",
    "    intervals.append([first_index,change])\n",
    "    first_index = change\n"
   ]
  },
  {
   "cell_type": "code",
   "execution_count": 6,
   "metadata": {
    "collapsed": false
   },
   "outputs": [
    {
     "data": {
      "text/plain": [
       "(array([ 0.00978492,  0.00572325,  0.00240007,  0.00073848,  0.00073848,\n",
       "         0.00036924,  0.00073848,  0.00036924,  0.00018462,  0.00018462]),\n",
       " array([   1. ,   48.1,   95.2,  142.3,  189.4,  236.5,  283.6,  330.7,\n",
       "         377.8,  424.9,  472. ]),\n",
       " <a list of 10 Patch objects>)"
      ]
     },
     "execution_count": 6,
     "metadata": {},
     "output_type": "execute_result"
    },
    {
     "data": {
      "image/png": "[encoded data removed]",
      "text/plain": [
       "<matplotlib.figure.Figure at 0x117a26978>"
      ]
     },
     "metadata": {},
     "output_type": "display_data"
    }
   ],
   "source": [
    "#print(intervals)\n",
    "lengths=[interval[1]-interval[0] for interval in intervals]\n",
    "plt.hist(lengths,normed=True)"
   ]
  },
  {
   "cell_type": "code",
   "execution_count": 7,
   "metadata": {
    "collapsed": true
   },
   "outputs": [],
   "source": [
    "#now we need to calculate the signal from the two brain regions\n",
    "def time_series(A,D,delta_t,N):\n",
    "    \"\"\" returns a time series that is the solution of a Langevin equation describing a Brownian particle in a harmonic potential\n",
    "    :param A: mean square amplitude - oscillator strength\n",
    "    :param D: Diffusion coefficient\n",
    "    :param delta_t: time step\n",
    "    :param N: number of samples that are returned\n",
    "    :return:\n",
    "    \"\"\"\n",
    "    # using Smolukowski solution for simulation\n",
    "\n",
    "    #first point\n",
    "    x=[np.random.normal(0,np.sqrt(A[0]))]\n",
    "    stddev = np.sqrt(A * (1.0 - np.exp(-2.0 * D / A * delta_t)))\n",
    "\n",
    "    for i in range(1,N):\n",
    "        x.append(np.random.normal(x[-1]*np.exp(-D[i]/A[i]*delta_t),stddev[i]))\n",
    "\n",
    "    return np.array(x)\n"
   ]
  },
  {
   "cell_type": "code",
   "execution_count": 8,
   "metadata": {
    "collapsed": false
   },
   "outputs": [],
   "source": [
    "# before we get to our more complicated model we create a one node model with different amplitudes\n",
    "AA=np.array([0.1,1.0])\n",
    "DD=np.array([1.0,1.0])\n",
    "A=AA[sample]\n",
    "D=DD[sample]\n",
    "delta_t=0.2\n",
    "simple_sample=time_series(A,D,delta_t,len(sample))"
   ]
  },
  {
   "cell_type": "code",
   "execution_count": 9,
   "metadata": {
    "collapsed": false
   },
   "outputs": [
    {
     "name": "stdout",
     "output_type": "stream",
     "text": [
      "10000\n"
     ]
    },
    {
     "data": {
      "text/plain": [
       "[<matplotlib.lines.Line2D at 0x117cf92e8>]"
      ]
     },
     "execution_count": 9,
     "metadata": {},
     "output_type": "execute_result"
    },
    {
     "data": {
      "image/png": "[encoded data removed]",
      "text/plain": [
       "<matplotlib.figure.Figure at 0x117de2e80>"
      ]
     },
     "metadata": {},
     "output_type": "display_data"
    }
   ],
   "source": [
    "print(simple_sample.size)\n",
    "plt.plot(simple_sample[:1000])\n",
    "plt.plot(sample[:1000], drawstyle='steps-mid')\n"
   ]
  },
  {
   "cell_type": "code",
   "execution_count": 10,
   "metadata": {
    "collapsed": false
   },
   "outputs": [],
   "source": [
    "class HMMStates(pm.Categorical):\n",
    "    \"\"\"\n",
    "    Hidden Markov Model States\n",
    "    Parameters\n",
    "    ----------\n",
    "    P1 : tensor\n",
    "        probability to remain in state 1\n",
    "    P2 : tensor\n",
    "        probability to move from state 2 to state 1\n",
    "    \n",
    "    \"\"\"\n",
    "\n",
    "    def __init__(self, PA=None, P1=None, P2=None,\n",
    "                 *args, **kwargs):\n",
    "        super(pm.Categorical, self).__init__(*args, **kwargs)\n",
    "        self.PA = PA\n",
    "        self.P1 = P1\n",
    "        self.P2 = P2\n",
    "        self.k = 2 # two state model\n",
    "        self.mean = 0.\n",
    "        self.mode = tt.cast(0,dtype='int64')\n",
    "\n",
    "    def logp(self, x):\n",
    "        PA = self.PA\n",
    "        P1 = self.P1\n",
    "        P2 = self.P2\n",
    "        \n",
    "        # now we need to create an array with probabilities\n",
    "        # so that for x=A: PA=P1, PB=(1-P1)\n",
    "        # and for x=B: PA=P2, PB=(1-P2)\n",
    "        # for more than two states we may use tt.choose()\n",
    "#        length = x.shape[0]\n",
    "        PT = tt.stack((P1,P2))\n",
    "        \n",
    "        P = PT[x[:-1]]\n",
    "        \n",
    "        x_i = x[1:]\n",
    "        \n",
    "        ou_like = pm.Categorical.dist(P, shape=(N_chain-1,2)).logp(x_i)\n",
    "        return pm.Categorical.dist(PA).logp(x[0]) + tt.sum(ou_like)"
   ]
  },
  {
   "cell_type": "code",
   "execution_count": 18,
   "metadata": {
    "collapsed": true
   },
   "outputs": [],
   "source": [
    "class HMMUhlenbeckOrnsteinEmissions(pm.Continuous):\n",
    "    \"\"\"\n",
    "    Hidden Markov Model Gaussian Emissions\n",
    "    Parameters\n",
    "    ----------\n",
    "    A1,A2 : tensor\n",
    "        prior for amplitudes of the two states\n",
    "        shape = (2,N_states)\n",
    "        \n",
    "    D1,D2 : tensor\n",
    "        prior for diffusion coefficient of the two states\n",
    "        shape = (2,N_states)\n",
    "    \n",
    "    states : tensor\n",
    "         hidden states (integer 0..(N_states-1))\n",
    "         shape = (N_states)\n",
    "    \n",
    "    \"\"\"\n",
    "\n",
    "    def __init__(self, A1=None, A2=None, D1=None, D2=None, delta_t=0.01, states=None,\n",
    "                 *args, **kwargs):\n",
    "        super(HMMUhlenbeckOrnsteinEmissions, self).__init__(*args, **kwargs)\n",
    "        self.A1 = A1\n",
    "        self.D1 = D1\n",
    "        self.A2 = A2\n",
    "        self.D2 = D2\n",
    "        self.states = states\n",
    "        self.mean = 0.\n",
    "\n",
    "    def logp(self, x):\n",
    "        A1 = self.A1\n",
    "        D1 = self.D1\n",
    "        A2 = self.A2\n",
    "        D2 = self.D2\n",
    "        states = self.states\n",
    "        \n",
    "        # create an array of amplitudes that correspond to the states\n",
    "        AT = tt.stack((A1,A2))\n",
    "        AS = AT[states]\n",
    "        \n",
    "        # create an array of diffusion coefficients that correspond to the states\n",
    "        DT = tt.stack((D1,D2))\n",
    "        DS = DT[states]\n",
    "        \n",
    "        B = tt.exp(-delta_t * DS / AS)\n",
    "        \n",
    "        x_im1 = x[:-1]\n",
    "        x_i = x[1:]\n",
    "\n",
    "        ou_like = pm.Normal.dist(mu=x_im1*B[1:], tau=1.0/AS[1:]/(1-B[1:]**2)).logp(x_i)\n",
    "        return pm.Normal.dist(mu=0.0,tau=1.0/AS[0]).logp(x[0]) + tt.sum(ou_like)\n"
   ]
  },
  {
   "cell_type": "code",
   "execution_count": 19,
   "metadata": {
    "collapsed": false
   },
   "outputs": [
    {
     "name": "stdout",
     "output_type": "stream",
     "text": [
      "10000\n",
      "Optimization terminated successfully.\n",
      "         Current function value: 6042.497114\n",
      "         Iterations: 2\n",
      "         Function evaluations: 194\n"
     ]
    },
    {
     "name": "stderr",
     "output_type": "stream",
     "text": [
      "  0%|          | 22/10000 [07:11<54:17:19, 19.59s/it]"
     ]
    }
   ],
   "source": [
    "# Two state model for simplicity.\n",
    "N_states = 2\n",
    "N_chain = len(simple_sample)\n",
    "print(N_chain)\n",
    "\n",
    "# Transition probability stochastic\n",
    "theta = np.ones(N_states) + 1.\n",
    "aA=0.01\n",
    "bA=0.01\n",
    "aD=2.01\n",
    "bD=1.01\n",
    "    \n",
    "with pm.Model() as model:\n",
    "    # 2 state model\n",
    "    # P1 is probablility to stay in state 1\n",
    "    # P2 is probability to move from state 2 to state 1\n",
    "    P1 = pm.Dirichlet('P1', a=theta)\n",
    "    P2 = pm.Dirichlet('P2', a=theta)\n",
    "    \n",
    "    D1 = pm.InverseGamma('D1', alpha=aD, beta=bD)\n",
    "    A1 = pm.Gamma('A1', alpha=aA, beta=bA)\n",
    "    D2 = pm.InverseGamma('D2', alpha=aD, beta=bD)\n",
    "    A2 = pm.Gamma('A2', alpha=aA, beta=bA)\n",
    "    \n",
    "    PA = pm.Deterministic('PA',P2/(P2+1-P1))\n",
    "    \n",
    "    states = HMMStates('states',PA,P1,P2, shape=N_chain)\n",
    "    \n",
    "    emission = HMMUhlenbeckOrnsteinEmissions('emission',\n",
    "                                    A1=A1,\n",
    "                                    A2=A1,\n",
    "                                    D1=D1,\n",
    "                                    D2=D2,\n",
    "                                    delta_t=0.2,\n",
    "                                    states=states,\n",
    "                                    observed = simple_sample)\n",
    "    \n",
    "    start = pm.find_MAP(fmin=optimize.fmin_powell)\n",
    "    step1 = pm.Metropolis(vars=[P1, P2, A1, A2, D1, D2, PA, emission])\n",
    "    step2 = pm.BinaryGibbsMetropolis(vars=[states])\n",
    "    trace = pm.sample(10000, start=start, step=[step1, step2])"
   ]
  },
  {
   "cell_type": "code",
   "execution_count": null,
   "metadata": {
    "collapsed": true
   },
   "outputs": [],
   "source": []
  }
 ],
 "metadata": {
  "anaconda-cloud": {},
  "kernelspec": {
   "display_name": "Python [conda env:python3]",
   "language": "python",
   "name": "conda-env-python3-py"
  },
  "language_info": {
   "codemirror_mode": {
    "name": "ipython",
    "version": 3
   },
   "file_extension": ".py",
   "mimetype": "text/x-python",
   "name": "python",
   "nbconvert_exporter": "python",
   "pygments_lexer": "ipython3",
   "version": "3.5.2"
  }
 },
 "nbformat": 4,
 "nbformat_minor": 1
}
