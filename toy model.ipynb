{
 "cells": [
  {
   "cell_type": "markdown",
   "metadata": {},
   "source": [
    "# metabolic HMM\n",
    "we are attempting to describe metabolic brain states with hidden Markov models.  To prove that this is feasible we are creating a toy model with two brain regions that are coupled.  We then define two states that correspond to different coupling coefficient.  To test the model, we will create a dataset from the model and then we will feed it into the analysis to see whether we can recreate the parameters from the data."
   ]
  },
  {
   "cell_type": "code",
   "execution_count": 15,
   "metadata": {
    "collapsed": true
   },
   "outputs": [],
   "source": [
    "%matplotlib inline\n",
    "import numpy as np\n",
    "import pandas as pd\n",
    "import matplotlib.pyplot as plt\n",
    "import pymc3 as pm\n",
    "import langevin"
   ]
  },
  {
   "cell_type": "code",
   "execution_count": 16,
   "metadata": {
    "collapsed": false
   },
   "outputs": [
    {
     "name": "stdout",
     "output_type": "stream",
     "text": [
      "0.99 0.02 0.666666666667 0.333333333333\n"
     ]
    }
   ],
   "source": [
    "# transition matrix for states A and B\n",
    "P=np.array([[0.99,0.01],[0.02,0.98]])\n",
    "P1 = P[0,0]\n",
    "P2 = P[1,0]\n",
    "PA = P2/(P2+1-P1)\n",
    "PB = 1 - PA\n",
    "print(P1,P2,PA,PB)\n",
    "\n",
    "# create a sample\n",
    "firstpoint = np.random.choice(2, 1, p=[PA,PB])\n",
    "sample = [firstpoint[0]]\n",
    "for i in range(1,10000):\n",
    "    sample = np.concatenate((sample,np.random.choice(2,1,p=P[sample[-1]])))"
   ]
  },
  {
   "cell_type": "code",
   "execution_count": 17,
   "metadata": {
    "collapsed": false
   },
   "outputs": [
    {
     "data": {
      "text/plain": [
       "(-0.1, 1.1)"
      ]
     },
     "execution_count": 17,
     "metadata": {},
     "output_type": "execute_result"
    },
    {
     "data": {
      "image/png": "[encoded data removed]",
      "text/plain": [
       "<matplotlib.figure.Figure at 0x118a7f860>"
      ]
     },
     "metadata": {},
     "output_type": "display_data"
    }
   ],
   "source": [
    "# plot the state variable\n",
    "plt.plot(sample[:1000], drawstyle='steps-mid')\n",
    "plt.ylim((-0.1,1.1))"
   ]
  },
  {
   "cell_type": "code",
   "execution_count": 18,
   "metadata": {
    "collapsed": false
   },
   "outputs": [
    {
     "name": "stdout",
     "output_type": "stream",
     "text": [
      "False\n"
     ]
    }
   ],
   "source": [
    "print(not 1)"
   ]
  },
  {
   "cell_type": "code",
   "execution_count": 19,
   "metadata": {
    "collapsed": false
   },
   "outputs": [],
   "source": [
    "# to simulate the data we need to calculate the time intervals for each state\n",
    "first = sample[0]\n",
    "first_index = 0\n",
    "intervals=[]\n",
    "while first_index<len(sample):\n",
    "    if first==0:\n",
    "        first=1\n",
    "    else:\n",
    "        first=0\n",
    "    try:\n",
    "        change = next(i+first_index for i,state in enumerate(sample[first_index:]) if state==first)\n",
    "    except:\n",
    "        change = len(sample)\n",
    "    intervals.append([first_index,change])\n",
    "    first_index = change\n"
   ]
  },
  {
   "cell_type": "code",
   "execution_count": 20,
   "metadata": {
    "collapsed": false
   },
   "outputs": [
    {
     "data": {
      "text/plain": [
       "(array([ 0.01142434,  0.00509464,  0.00169821,  0.00138945,  0.0009263 ,\n",
       "         0.00046315,  0.        ,  0.        ,  0.00015438,  0.00030877]),\n",
       " array([   1. ,   47.6,   94.2,  140.8,  187.4,  234. ,  280.6,  327.2,\n",
       "         373.8,  420.4,  467. ]),\n",
       " <a list of 10 Patch objects>)"
      ]
     },
     "execution_count": 20,
     "metadata": {},
     "output_type": "execute_result"
    },
    {
     "data": {
      "image/png": "[encoded data removed]",
      "text/plain": [
       "<matplotlib.figure.Figure at 0x118790d68>"
      ]
     },
     "metadata": {},
     "output_type": "display_data"
    }
   ],
   "source": [
    "#print(intervals)\n",
    "lengths=[interval[1]-interval[0] for interval in intervals]\n",
    "plt.hist(lengths,normed=True)"
   ]
  },
  {
   "cell_type": "code",
   "execution_count": 21,
   "metadata": {
    "collapsed": true
   },
   "outputs": [],
   "source": [
    "#now we need to calculate the signal from the two brain regions\n",
    "def time_series(A,D,delta_t,N):\n",
    "    \"\"\" returns a time series that is the solution of a Langevin equation describing a Brownian particle in a harmonic potential\n",
    "    :param A: mean square amplitude - oscillator strength\n",
    "    :param D: Diffusion coefficient\n",
    "    :param delta_t: time step\n",
    "    :param N: number of samples that are returned\n",
    "    :return:\n",
    "    \"\"\"\n",
    "    # using Smolukowski solution for simulation\n",
    "\n",
    "    #first point\n",
    "    x=[np.random.normal(0,np.sqrt(A[0]))]\n",
    "    stddev = np.sqrt(A * (1.0 - np.exp(-2.0 * D / A * delta_t)))\n",
    "\n",
    "    for i in range(1,N):\n",
    "        x.append(np.random.normal(x[-1]*np.exp(-D[i]/A[i]*delta_t),stddev[i]))\n",
    "\n",
    "    return np.array(x)\n"
   ]
  },
  {
   "cell_type": "code",
   "execution_count": 22,
   "metadata": {
    "collapsed": false
   },
   "outputs": [],
   "source": [
    "# before we get to our more complicated model we create a one node model with different amplitudes\n",
    "AA=np.array([0.1,1.0])\n",
    "DD=np.array([1.0,1.0])\n",
    "A=AA[sample]\n",
    "D=DD[sample]\n",
    "delta_t=0.2\n",
    "simple_sample=time_series(A,D,delta_t,len(sample))"
   ]
  },
  {
   "cell_type": "code",
   "execution_count": 26,
   "metadata": {
    "collapsed": false
   },
   "outputs": [
    {
     "name": "stdout",
     "output_type": "stream",
     "text": [
      "10000\n"
     ]
    },
    {
     "data": {
      "text/plain": [
       "[<matplotlib.lines.Line2D at 0x119409160>]"
      ]
     },
     "execution_count": 26,
     "metadata": {},
     "output_type": "execute_result"
    },
    {
     "data": {
      "image/png": "[encoded data removed]",
      "text/plain": [
       "<matplotlib.figure.Figure at 0x1194090f0>"
      ]
     },
     "metadata": {},
     "output_type": "display_data"
    }
   ],
   "source": [
    "print(simple_sample.size)\n",
    "plt.plot(simple_sample[:1000])\n",
    "plt.plot(sample[:1000], drawstyle='steps-mid')\n"
   ]
  },
  {
   "cell_type": "code",
   "execution_count": 24,
   "metadata": {
    "collapsed": false
   },
   "outputs": [],
   "source": [
    "class HMMStates(pm.Categorical):\n",
    "    \"\"\"\n",
    "    Hidden Markov Model States\n",
    "    Parameters\n",
    "    ----------\n",
    "    P1 : tensor\n",
    "        probability to remain in state 1\n",
    "    P2 : tensor\n",
    "        probability to move from state 2 to state 1\n",
    "    \n",
    "    \"\"\"\n",
    "\n",
    "    def __init__(self, PA=None, P1=None, P2=None,\n",
    "                 *args, **kwargs):\n",
    "        super(pm.Categorical, self).__init__(*args, **kwargs)\n",
    "        self.PA = PA\n",
    "        self.P1 = P1\n",
    "        self.P2 = P2\n",
    "        self.k = 2 # two state model\n",
    "        self.mean = 0.\n",
    "        self.mode = tt.cast(0,dtype='int64')\n",
    "\n",
    "    def logp(self, x):\n",
    "        PA = self.PA\n",
    "        P1 = self.P1\n",
    "        P2 = self.P2\n",
    "        \n",
    "        # now we need to create an array with probabilities\n",
    "        # so that for x=A: PA=P1, PB=(1-P1)\n",
    "        # and for x=B: PA=P2, PB=(1-P2)\n",
    "        # for more than two states we may use tt.choose()\n",
    "#        length = x.shape[0]\n",
    "        PT = tt.stack((P1,P2))\n",
    "        \n",
    "        P = PT[x[:-1]]\n",
    "        \n",
    "        x_i = x[1:]\n",
    "        \n",
    "        ou_like = pm.Categorical.dist(P, shape=(N_chain-1,2)).logp(x_i)\n",
    "        return pm.Categorical.dist(PA).logp(x[0]) + tt.sum(ou_like)"
   ]
  },
  {
   "cell_type": "code",
   "execution_count": null,
   "metadata": {
    "collapsed": true
   },
   "outputs": [],
   "source": [
    "class HMMUhlenbeckOrnsteinEmissions(pm.Continuous):\n",
    "    \"\"\"\n",
    "    Hidden Markov Model Gaussian Emissions\n",
    "    Parameters\n",
    "    ----------\n",
    "    A : tensor\n",
    "        prior for Gaussian emission mu\n",
    "        shape = (2,N_states)\n",
    "        \n",
    "    S : tensor\n",
    "        prior for Gaussian emission width\n",
    "        shape = (2,N_states)\n",
    "    \n",
    "    states : tensor\n",
    "         equilibrium probabilities\n",
    "         shape = (N_states)\n",
    "    \n",
    "    \"\"\"\n",
    "\n",
    "    def __init__(self, A1=None, A2=None, D1=None, D2=None, delta_t=0.01, states=None,\n",
    "                 *args, **kwargs):\n",
    "        super(HMMUhlenbeckOrnsteinEmissions, self).__init__(*args, **kwargs)\n",
    "        self.A1 = A1\n",
    "        self.D1 = S1\n",
    "        self.A2 = A2\n",
    "        self.D2 = S2\n",
    "        self.states = states\n",
    "        self.mean = 0.\n",
    "\n",
    "    def logp(self, x):\n",
    "        A1 = self.A1\n",
    "        D1 = self.D1\n",
    "        A2 = self.A2\n",
    "        D2 = self.D2\n",
    "        states = self.states\n",
    "        \n",
    "#        length = x.shape[0]\n",
    "#        AT = tt.tile(A.T,(length,1,1))\n",
    "#        ST = tt.tile(S.T,(length,1,1))\n",
    "        \n",
    "#        AS = tt.switch(states,AT.T)        \n",
    "#        SS = tt.switch(states,ST.T)\n",
    "        AT = tt.stack((A1,A2))\n",
    "        AS = AT[states]\n",
    "        \n",
    "        ST = tt.stack((S1,S2))\n",
    "        SS = ST[states]\n",
    "        \n",
    "        ou_like = pm.Normal.dist(mu=AS,sd=SS).logp(x)\n",
    "        return tt.sum(ou_like)"
   ]
  }
 ],
 "metadata": {
  "anaconda-cloud": {},
  "kernelspec": {
   "display_name": "Python [conda env:python3]",
   "language": "python",
   "name": "conda-env-python3-py"
  },
  "language_info": {
   "codemirror_mode": {
    "name": "ipython",
    "version": 3
   },
   "file_extension": ".py",
   "mimetype": "text/x-python",
   "name": "python",
   "nbconvert_exporter": "python",
   "pygments_lexer": "ipython3",
   "version": "3.5.2"
  }
 },
 "nbformat": 4,
 "nbformat_minor": 1
}
